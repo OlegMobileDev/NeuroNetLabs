{
  "cells": [
    {
      "cell_type": "markdown",
      "metadata": {
        "id": "Kj4RcGot8CZV"
      },
      "source": [
        "### Домашняя работа\n",
        "\n",
        "У вас есть два набора точек – истинные значения *y_true* и предсказанные значения *y_pred*\n",
        "\n",
        "* для каждой точки из *y_true* постройте величину ошибки $e = y-\\hat{y}$ – это называется **остатки регрессии**\n",
        "* возведите ошибки в квадрат $e^2$\n",
        "* постройте график ошибок – зависимость $e^2$ от $e$"
      ]
    },
    {
      "cell_type": "code",
      "execution_count": 1,
      "metadata": {
        "id": "YS5vFeVt8CZb"
      },
      "outputs": [],
      "source": [
        "import numpy as np\n",
        "\n",
        "y_pred_ = np.array([30.0, 25.03, 30.57, 28.61, 27.94, 25.26, 23.0, 19.54, 11.52, 18.92, 19.0, 21.59, 20.91, 19.55, 19.28, 19.3, 20.53, 16.91, 16.18, 18.41, 12.52, 17.67, 15.83, 13.81, 15.68, 13.39, 15.46, 14.71, 19.55, 20.88, 11.46, 18.06, 8.81, 14.28, 13.71, 23.81, 22.34, 23.11, 22.92, 31.36])\n",
        "y_true_ = np.array([24.0, 21.6, 34.7, 33.4, 36.2, 28.7, 22.9, 27.1, 16.5, 18.9, 15.0, 18.9, 21.7, 20.4, 18.2, 19.9, 23.1, 17.5, 20.2, 18.2, 13.6, 19.6, 15.2, 14.5, 15.6, 13.9, 16.6, 14.8, 18.4, 21.0, 12.7, 14.5, 13.2, 13.1, 13.5, 18.9, 20.0, 21.0, 24.7, 30.8])"
      ]
    },
    {
      "cell_type": "markdown",
      "metadata": {
        "id": "Msa1g5qv8CZq"
      },
      "source": [
        "График должен получится вот такой:\n",
        "\n",
        "![experiment_errors](https://sun9-50.userapi.com/c856120/v856120638/1e9be0/3m-6-p2kZfk.jpg)"
      ]
    },
    {
      "cell_type": "code",
      "execution_count": 4,
      "metadata": {
        "id": "rkZUITeD8CZt"
      },
      "outputs": [
        {
          "data": {
            "text/plain": [
              "array([3.60000e+01, 1.17649e+01, 1.70569e+01, 2.29441e+01, 6.82276e+01,\n",
              "       1.18336e+01, 1.00000e-02, 5.71536e+01, 2.48004e+01, 4.00000e-04,\n",
              "       1.60000e+01, 7.23610e+00, 6.24100e-01, 7.22500e-01, 1.16640e+00,\n",
              "       3.60000e-01, 6.60490e+00, 3.48100e-01, 1.61604e+01, 4.41000e-02,\n",
              "       1.16640e+00, 3.72490e+00, 3.96900e-01, 4.76100e-01, 6.40000e-03,\n",
              "       2.60100e-01, 1.29960e+00, 8.10000e-03, 1.32250e+00, 1.44000e-02,\n",
              "       1.53760e+00, 1.26736e+01, 1.92721e+01, 1.39240e+00, 4.41000e-02,\n",
              "       2.41081e+01, 5.47560e+00, 4.45210e+00, 3.16840e+00, 3.13600e-01])"
            ]
          },
          "execution_count": 4,
          "metadata": {},
          "output_type": "execute_result"
        }
      ],
      "source": [
        "from matplotlib import pyplot as plt\n",
        "\n",
        "%matplotlib inline\n",
        "\n",
        "y_1 = []\n",
        "y_2 = []\n",
        "\n",
        "for i in range(0,len(y_true_)):\n",
        "    er = y_true_ - y_pred_\n",
        "    y_1.append(er)\n",
        "    y_2.append(er*er)\n",
        "\n",
        "y_2[0]\n",
        "\n"
      ]
    },
    {
      "cell_type": "code",
      "execution_count": 12,
      "metadata": {},
      "outputs": [
        {
          "data": {
            "image/png": "[encoded data removed]",
            "text/plain": [
              "<Figure size 640x480 with 1 Axes>"
            ]
          },
          "metadata": {},
          "output_type": "display_data"
        }
      ],
      "source": [
        "plt.scatter(y_1, y_2, 30, 'b', '.', alpha=0.8)\n",
        "plt.show()"
      ]
    }
  ],
  "metadata": {
    "colab": {
      "provenance": []
    },
    "kernelspec": {
      "display_name": "Python 3",
      "language": "python",
      "name": "python3"
    },
    "language_info": {
      "codemirror_mode": {
        "name": "ipython",
        "version": 3
      },
      "file_extension": ".py",
      "mimetype": "text/x-python",
      "name": "python",
      "nbconvert_exporter": "python",
      "pygments_lexer": "ipython3",
      "version": "3.10.5"
    }
  },
  "nbformat": 4,
  "nbformat_minor": 0
}
